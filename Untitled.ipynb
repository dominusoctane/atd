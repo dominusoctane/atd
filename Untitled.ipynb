{
 "cells": [
  {
   "cell_type": "code",
   "execution_count": 6,
   "id": "9e932de9-e723-4ddd-a919-963170f1b15d",
   "metadata": {},
   "outputs": [
    {
     "name": "stderr",
     "output_type": "stream",
     "text": [
      "Processing Patients: 100%|███████████████████████| 3147/3147 [00:00<00:00, 103869.08it/s]\n"
     ]
    }
   ],
   "source": [
    "import os\n",
    "import pandas as pd\n",
    "from tqdm import tqdm\n",
    "\n",
    "# Get the current working directory\n",
    "current_directory = os.getcwd()\n",
    "\n",
    "# Construct the path to the train_images directory located one level up\n",
    "train_base_directory = os.path.join(current_directory, 'train_images')\n",
    "\n",
    "# Collect all the DICOM file paths along with patient IDs and series ID\n",
    "dicom_data = []\n",
    "for patient_id in tqdm(os.listdir(train_base_directory), desc=\"Processing Patients\"):\n",
    "    patient_dir = os.path.join(train_base_directory, patient_id)\n",
    "    for series_id in os.listdir(patient_dir):\n",
    "        series_dir = os.path.join(patient_dir, series_id)\n",
    "        dicom_data.append({'series_dir': series_dir, 'patient_id': patient_id, 'series_id': series_id})\n",
    "\n",
    "# Create a DataFrame using the collected data\n",
    "dicom_df = pd.DataFrame(dicom_data)\n",
    "\n",
    "dicom_df['patient_duplicate_count'] = dicom_df.groupby('patient_id')['patient_id'].transform('count')"
   ]
  },
  {
   "cell_type": "code",
   "execution_count": 7,
   "id": "3c562f43-cae8-4a48-9b6b-5122828fb2ac",
   "metadata": {},
   "outputs": [],
   "source": [
    "import numpy as np\n",
    "import os\n",
    "import pydicom as dicom\n",
    "from tqdm import tqdm\n",
    "from skimage.transform import resize\n",
    "import matplotlib.pyplot as plt\n",
    "import pandas as pd\n",
    "import cv2\n",
    "\n",
    "def sample_patient_volume(folder, depth_downsample_rate = None, lw_downsample_rate = None):\n",
    "    \"\"\"\n",
    "    Standardize the pixel array from DICOM metadata.\n",
    "    \"\"\"\n",
    "    \n",
    "    filenames = sorted([int(filename.split('.')[0]) for filename in os.listdir(folder)])\n",
    "    filenames = [str(filename) + '.dcm' for filename in filenames]\n",
    "    start_index = int(len(filenames) * 0.05)\n",
    "    end_index = int(len(filenames) * 0.95)\n",
    "    \n",
    "    filenames = filenames[start_index:end_index]\n",
    "    \n",
    "    if depth_downsample_rate:\n",
    "        filenames = filenames[::depth_downsample_rate]\n",
    "\n",
    "    volume = []\n",
    "    slice_thicknesses = []\n",
    "    for filename in filenames:\n",
    "        filepath = os.path.join(folder, filename)\n",
    "        dcm = dicom.dcmread(filepath)\n",
    "        \n",
    "        pixel_array = dcm.pixel_array\n",
    "        if dcm.PixelRepresentation == 1:\n",
    "            bit_shift = dcm.BitsAllocated - dcm.BitsStored\n",
    "            dtype = pixel_array.dtype \n",
    "            pixel_array = (pixel_array << bit_shift).astype(dtype) >> bit_shift\n",
    "\n",
    "        intercept = float(dcm.RescaleIntercept)\n",
    "        slope = float(dcm.RescaleSlope)\n",
    "        center = int(dcm.WindowCenter)\n",
    "        width = int(dcm.WindowWidth)\n",
    "        low = center - width / 2\n",
    "        high = center + width / 2\n",
    "\n",
    "        pixel_array = (pixel_array * slope) + intercept\n",
    "        pixel_array = np.clip(pixel_array, low, high)\n",
    "\n",
    "        pixel_array -= np.min(pixel_array)\n",
    "\n",
    "        pixel_array = (pixel_array / np.max(pixel_array) * 255).astype(np.int16)\n",
    "        \n",
    "        if lw_downsample_rate:\n",
    "            pixel_array = pixel_array[::lw_downsample_rate, ::lw_downsample_rate]\n",
    "\n",
    "        thickness = float(dcm.SliceThickness)\n",
    "        slice_thicknesses.append(thickness)\n",
    "        \n",
    "        volume.append(pixel_array)\n",
    "        \n",
    "    volume = np.array(volume)\n",
    "\n",
    "    avg_slice_thickness = np.unique(slice_thicknesses)\n",
    "    \n",
    "    return volume, avg_slice_thickness\n"
   ]
  },
  {
   "cell_type": "code",
   "execution_count": 8,
   "id": "9e6379e1-50a3-4d39-81b4-1743b67752be",
   "metadata": {},
   "outputs": [],
   "source": [
    "import ants\n",
    "def register_volume_ants(fixed_volume, moving_volume, transform_type='Rigid'):\n",
    "    \"\"\"Register moving_volume to fixed_volume using ANTsPy.\n",
    "    \n",
    "    Args:\n",
    "    - fixed_volume: 3D numpy array representing the fixed volume.\n",
    "    - moving_volume: 3D numpy array representing the moving volume.\n",
    "    - transform_type: Transformation model to use. Can be 'Rigid', 'Affine', 'SyN', 'Elastic', or 'BSplineSyN'.\n",
    "\n",
    "    Returns:\n",
    "    - resampled_moving_volume: 3D numpy array representing the registered moving volume.\n",
    "    \"\"\"\n",
    "    \n",
    "    # Convert numpy arrays to ANTs images\n",
    "    # Convert to float32 type first\n",
    "    fixed_image = ants.from_numpy(fixed_volume.astype(np.float32))\n",
    "    moving_image = ants.from_numpy(moving_volume.astype(np.float32))\n",
    "    \n",
    "    # Perform registration with the specified transform type\n",
    "    reg_image = ants.registration(fixed=fixed_image, moving=moving_image, type_of_transform=transform_type, metric='MI')\n",
    "    \n",
    "    # Use the transformation from the registration to warp the moving image to the fixed image space\n",
    "    warped_moving_image = ants.apply_transforms(fixed=fixed_image, moving=moving_image, transformlist=reg_image['fwdtransforms'])\n",
    "    \n",
    "    # Convert the result back to a numpy array\n",
    "    resampled_moving_volume = warped_moving_image.numpy()\n",
    "    \n",
    "    return resampled_moving_volume\n"
   ]
  },
  {
   "cell_type": "code",
   "execution_count": 9,
   "id": "652aa5db-e431-49c6-9b81-bf5b1c844cae",
   "metadata": {},
   "outputs": [],
   "source": [
    "def mse(imageA, imageB):\n",
    "    \"\"\"Calculate the Mean Squared Error between two images.\"\"\"\n",
    "    err = np.sum((imageA.astype(\"float\") - imageB.astype(\"float\")) ** 2)\n",
    "    err /= float(imageA.shape[0] * imageA.shape[1])\n",
    "    return err\n",
    "\n",
    "def find_most_similar_slice(volume, target_slice):\n",
    "    \"\"\"Find the index of the slice in the volume most similar to the target slice.\"\"\"\n",
    "    min_mse = float('inf')\n",
    "    best_index = -1\n",
    "    \n",
    "    for i in range(volume.shape[0]):\n",
    "        current_mse = mse(volume[i], target_slice)\n",
    "        if current_mse < min_mse:\n",
    "            min_mse = current_mse\n",
    "            best_index = i\n",
    "            \n",
    "    return best_index"
   ]
  },
  {
   "cell_type": "code",
   "execution_count": 61,
   "id": "9bfeb92f-ffd1-4a08-837a-b824dfdf0401",
   "metadata": {},
   "outputs": [],
   "source": [
    "def gamma_correction(img, gamma=1.0):\n",
    "    \"\"\"Applies gamma correction to an image.\"\"\"\n",
    "    # Ensure the image has only non-negative values\n",
    "    img = np.clip(img, 0, None)\n",
    "    \n",
    "    # Apply gamma correction\n",
    "    invGamma = 1.0 / gamma\n",
    "    epsilon = 1e-10  # Small value to avoid computing power of zero or negative values\n",
    "    corrected = np.power(img + epsilon, invGamma)\n",
    "    \n",
    "    # Clip the corrected image to maintain the same data range as the original image\n",
    "    corrected = np.clip(corrected, np.min(img), np.max(img))\n",
    "    \n",
    "    return corrected\n",
    "\n",
    "def compute_sad_per_slice(difference_volume, gamma=1.0):\n",
    "    sads = []\n",
    "    for slice_ in difference_volume:\n",
    "        corrected_slice = gamma_correction(slice_, gamma)\n",
    "        sads.append(np.sum(np.abs(corrected_slice)))\n",
    "    return np.array(sads)"
   ]
  },
  {
   "cell_type": "code",
   "execution_count": 62,
   "id": "e901d367-7c39-4696-a957-329414dd1400",
   "metadata": {},
   "outputs": [],
   "source": [
    "def extract_roi_from_difference_slice(difference_slice):\n",
    "    # 1. Thresholding\n",
    "    difference_slice = cv2.normalize(difference_slice, None, 0, 255, cv2.NORM_MINMAX).astype(np.uint8)\n",
    "\n",
    "    _, binarized_slice = cv2.threshold(difference_slice, 0, 255, cv2.THRESH_BINARY + cv2.THRESH_OTSU)\n",
    "    \n",
    "    # 2. Morphological Operations\n",
    "    kernel = np.ones((3,3),np.uint8)\n",
    "    kernel[0][0]=0\n",
    "    kernel[-1][-1]=0\n",
    "    kernel[0][-1]=0\n",
    "    kernel[-1][0]=0\n",
    "    cleaned_slice = cv2.morphologyEx(binarized_slice, cv2.MORPH_OPEN, kernel)\n",
    "    cleaned_slice = cv2.morphologyEx(cleaned_slice, cv2.MORPH_CLOSE, kernel)\n",
    "\n",
    "    # 3. Contour Detection\n",
    "    contours, _ = cv2.findContours(cleaned_slice, cv2.RETR_EXTERNAL, cv2.CHAIN_APPROX_SIMPLE)\n",
    "    \n",
    "    # 4. Filtering Contours (optional)\n",
    "    # For instance, let's filter out contours with an area less than 100 pixels. You can adjust this as needed.\n",
    "    filtered_contours = [cnt for cnt in contours if cv2.contourArea(cnt) > 20]\n",
    "    \n",
    "    # Create an empty mask to draw the ROI\n",
    "    mask = np.zeros_like(difference_slice)\n",
    "    \n",
    "    # Draw the filtered contours onto the mask\n",
    "    cv2.drawContours(mask, filtered_contours, -1, (255), thickness=cv2.FILLED)\n",
    "\n",
    "    kernel = np.ones((3,3), np.uint8)\n",
    "\n",
    "    # Apply closing to fill small holes\n",
    "    closed_mask = cv2.morphologyEx(mask, cv2.MORPH_CLOSE, kernel)\n",
    "\n",
    "    # Apply dilation to smoothen the shape\n",
    "    smoothed_mask = cv2.dilate(closed_mask, kernel, iterations=1)\n",
    "\n",
    "    #end_image = cv2.bitwise_and(difference_slice, difference_slice, mask=smoothed_mask)\n",
    "    \n",
    "    return smoothed_mask"
   ]
  },
  {
   "cell_type": "code",
   "execution_count": 60,
   "id": "8bd2d208-44af-4d05-8907-4a39142600fb",
   "metadata": {},
   "outputs": [],
   "source": [
    "def extract_volume_roi(difference_volume, gamma=1.0):\n",
    "    # Create an empty volume with the same shape as the input volume\n",
    "    roi_volume = np.zeros_like(difference_volume)\n",
    "    \n",
    "    # Loop through each slice in the volume\n",
    "    for i in range(difference_volume.shape[0]):\n",
    "        temp_slice = gamma_correction(difference_volume[i], gamma)\n",
    "        roi_volume[i] = extract_roi_from_difference_slice(temp_slice)\n",
    "    \n",
    "    return roi_volume"
   ]
  },
  {
   "cell_type": "code",
   "execution_count": 13,
   "id": "7223fb62-e361-4972-acaa-cbe4db03f8b6",
   "metadata": {},
   "outputs": [],
   "source": [
    "import os\n",
    "import pydicom as dicom\n",
    "import numpy as np\n",
    "from skimage.transform import resize\n",
    "from scipy.ndimage import zoom\n",
    "\n",
    "def sample_patient_volume(folder, depth_downsample_rate=None, lw_downsample_rate=None, \n",
    "                          adjust_pixel_spacing=\"no\", standardize_pixel_array=\"yes\", \n",
    "                          target_pixel_spacing=[1.0, 1.0], target_thickness=None,\n",
    "                          find_bbox=\"yes\"):\n",
    "    \"\"\"\n",
    "    Load and optionally adjust and standardize the pixel array from DICOM metadata.\n",
    "    \"\"\"\n",
    "    \n",
    "    filenames = sorted([int(filename.split('.')[0]) for filename in os.listdir(folder)])\n",
    "    filenames = [str(filename) + '.dcm' for filename in filenames]\n",
    "    start_index = int(len(filenames) * 0.05)\n",
    "    end_index = int(len(filenames) * 0.95)\n",
    "    \n",
    "    filenames = filenames[start_index:end_index]\n",
    "    \n",
    "    volume = []\n",
    "    original_thicknesses = []\n",
    "    for filename in filenames:\n",
    "        filepath = os.path.join(folder, filename)\n",
    "        dcm = dicom.dcmread(filepath)\n",
    "        original_thicknesses.append(float(dcm.SliceThickness))\n",
    "        \n",
    "        pixel_array = dcm.pixel_array\n",
    "\n",
    "        # Adjust pixel spacing if required\n",
    "        if standardize_pixel_array.lower() == \"yes\":\n",
    "            if dcm.PixelRepresentation == 1:\n",
    "                bit_shift = dcm.BitsAllocated - dcm.BitsStored\n",
    "                dtype = pixel_array.dtype \n",
    "                pixel_array = (pixel_array << bit_shift).astype(dtype) >> bit_shift\n",
    "\n",
    "            intercept = float(dcm.RescaleIntercept)\n",
    "            slope = float(dcm.RescaleSlope)\n",
    "            center = int(dcm.WindowCenter)\n",
    "            width = int(dcm.WindowWidth)\n",
    "            low = center - width / 2\n",
    "            high = center + width / 2\n",
    "\n",
    "            pixel_array = (pixel_array * slope) + intercept\n",
    "            pixel_array = np.clip(pixel_array, low, high)\n",
    "\n",
    "            pixel_array -= np.min(pixel_array)\n",
    "\n",
    "            pixel_array = (pixel_array / np.max(pixel_array) * 255).astype(np.int16)\n",
    "            \n",
    "        if adjust_pixel_spacing.lower() == \"yes\":\n",
    "            row_spacing, col_spacing = dcm.PixelSpacing\n",
    "            new_shape = (int(pixel_array.shape[0] * (row_spacing/target_pixel_spacing[0])), \n",
    "                         int(pixel_array.shape[1] * (col_spacing/target_pixel_spacing[1])))\n",
    "            pixel_array = resize(pixel_array, new_shape)\n",
    "\n",
    "        if lw_downsample_rate:\n",
    "            pixel_array = pixel_array[::lw_downsample_rate, ::lw_downsample_rate]\n",
    "        \n",
    "        volume.append(pixel_array)\n",
    "        \n",
    "    volume = np.array(volume)\n",
    "    \n",
    "    # Adjust the slice thickness if needed\n",
    "    if target_thickness:\n",
    "        original_thickness = np.mean(original_thicknesses)\n",
    "        z_zoom_factor = original_thickness / target_thickness\n",
    "        volume = zoom(volume, (z_zoom_factor, 1, 1), order=1)  # order=1 for bilinear interpolation\n",
    "\n",
    "    if find_bbox==\"yes\":\n",
    "        bounding_boxes, max_area_index, min_area_index = determine_bbox(volume)\n",
    "        bounding_box = bounding_boxes[max_area_index]\n",
    "        \n",
    "        volume = volume[:, bounding_box[1]:bounding_box[1]+bounding_box[3],\n",
    "                           bounding_box[0]:bounding_box[0]+bounding_box[2]]\n",
    "        \n",
    "    return volume"
   ]
  },
  {
   "cell_type": "code",
   "execution_count": 250,
   "id": "9be6127e-cedc-4cb6-931a-fc2821038cd2",
   "metadata": {},
   "outputs": [],
   "source": [
    "def best_alignment(fixed, moving):\n",
    "    best_mse = np.inf\n",
    "    best_position = None\n",
    "\n",
    "    for i in range(len(fixed) - len(moving) + 1):\n",
    "        mse = np.mean((fixed[i:i+len(moving)] - moving)**2)\n",
    "        if mse < best_mse:\n",
    "            best_mse = mse\n",
    "            best_position = i\n",
    "\n",
    "    return best_position\n",
    "\n",
    "\n",
    "def best_alignment(fixed, moving):\n",
    "    # Pad the fixed array with zeros on both sides by the length of the moving array\n",
    "    padded_fixed = np.pad(fixed, (len(moving), len(moving)), 'constant', constant_values=0)\n",
    "    \n",
    "    best_mse = np.inf\n",
    "    best_position = None\n",
    "\n",
    "    # Start from negative to allow moving array to completely slide over the fixed array\n",
    "    for i in range(0, len(padded_fixed) - len(moving) + 1):\n",
    "        mse = np.mean((padded_fixed[i:i+len(moving)] - moving)**2)\n",
    "        if mse < best_mse:\n",
    "            best_mse = mse\n",
    "            best_position = i - len(moving)\n",
    "\n",
    "    return best_position\n"
   ]
  },
  {
   "cell_type": "code",
   "execution_count": 359,
   "id": "c2512e71-d98b-46da-a667-b5b690574ab1",
   "metadata": {},
   "outputs": [],
   "source": [
    "import numpy as np\n",
    "import os\n",
    "import pydicom as dicom\n",
    "from tqdm import tqdm\n",
    "from skimage.transform import resize\n",
    "import matplotlib.pyplot as plt\n",
    "import pandas as pd\n",
    "from scipy.signal import find_peaks, gaussian, convolve\n",
    "from scipy.ndimage import maximum_filter1d, minimum_filter1d\n",
    "\n",
    "# Define a function to get bounding box of the largest contour in an image\n",
    "def get_bounding_box(image):\n",
    "    # Normalize the image to the range [0, 255]\n",
    "    normalized_image = cv2.normalize(image, None, 0, 255, cv2.NORM_MINMAX, dtype=cv2.CV_8U)\n",
    "\n",
    "    # Now, apply Otsu's thresholding\n",
    "    _, binary_image = cv2.threshold(normalized_image, 0, 255, cv2.THRESH_BINARY + cv2.THRESH_OTSU)\n",
    "\n",
    "    # Noise reduction using morphological opening\n",
    "    kernel = np.ones((5,5), np.uint8)\n",
    "    opened_image = cv2.morphologyEx(binary_image, cv2.MORPH_OPEN, kernel)\n",
    "    opened_image = cv2.morphologyEx(opened_image, cv2.MORPH_CLOSE, kernel)\n",
    "\n",
    "    contours, _ = cv2.findContours(opened_image, cv2.RETR_EXTERNAL, cv2.CHAIN_APPROX_SIMPLE)\n",
    "\n",
    "    # Assuming the largest contour corresponds to the abdominal region, find its bounding box\n",
    "    if contours:\n",
    "        # Sort contours by area and take the largest one\n",
    "        largest_contour = max(contours, key=cv2.contourArea)\n",
    "\n",
    "        # Get bounding box of the largest contour\n",
    "        x, y, w, h = cv2.boundingRect(largest_contour)\n",
    "\n",
    "    else:\n",
    "        x, y, w, h = 0, 0, 0, 0  # Default values in case no contours are found\n",
    "\n",
    "    # The bounding box is represented by the top-left corner (x, y) and the width and height (w, h)\n",
    "    bounding_box = (x, y, w, h)\n",
    "    \n",
    "    return bounding_box\n",
    "    \n",
    "def determine_bbox(volume):\n",
    "    bbox_list = []\n",
    "    \n",
    "    for slice_ in volume[int(len(volume) * 0.05):int(len(volume) * 0.95)]:\n",
    "        \n",
    "        bbox = get_bounding_box(slice_)\n",
    "        \n",
    "        bbox_list.append(bbox)\n",
    "        \n",
    "    bbox_list = np.array(bbox_list)\n",
    "    \n",
    "    areas = bbox_list[:, 2] * bbox_list[:, 3]  # width * height for each bbox\n",
    "\n",
    "    # Get the index of the maximum area\n",
    "    max_area_index = np.argmax(areas)\n",
    "    \n",
    "    min_area_index = np.argmin(areas)\n",
    "    \n",
    "    return bbox_list, max_area_index, min_area_index\n",
    "    \n",
    "def fourier_smoothing(y, cutoff_fraction=0.1):\n",
    "    # Compute the FFT of the input data\n",
    "    y_fft = np.fft.fft(y)\n",
    "    \n",
    "    # Zero out the higher frequencies\n",
    "    cutoff_idx = int(cutoff_fraction * len(y_fft))\n",
    "    y_fft[cutoff_idx:-cutoff_idx] = 0\n",
    "    \n",
    "    # Compute the inverse FFT to get the smoothed data\n",
    "    y_smoothed = np.fft.ifft(y_fft).real  # Only take the real part\n",
    "    \n",
    "    return y_smoothed\n",
    "\n",
    "def peaks_within_threshold(array, percentage=0.7, tolerance=0.05):\n",
    "    # Find the indices of the top 3 peaks\n",
    "    top3_indices = np.argsort(array)[-3:]\n",
    "    top3_values = array[top3_indices]\n",
    "    \n",
    "    # Sort the top 3 values to have the highest value first\n",
    "    sorted_top3 = sorted(top3_values, reverse=True)\n",
    "    \n",
    "    max_value = sorted_top3[0]\n",
    "    threshold = percentage * max_value\n",
    "    \n",
    "    # Check if second and third highest values are close to the threshold\n",
    "    for value in sorted_top3[1:]:\n",
    "        if abs(value - threshold) > tolerance * max_value:\n",
    "            return False\n",
    "    return True\n",
    "\n",
    "def find_bell_curve_region(data):\n",
    "    max_val = max(data)\n",
    "    max_idx = np.argmax(data)\n",
    "\n",
    "    # Thresholds\n",
    "    threshold_50 = 0.50 * max_val\n",
    "\n",
    "    # Find left boundaries\n",
    "    left_50 = next((i for i, val in enumerate(data[max_idx::-1]) if val <= threshold_50), max_idx)\n",
    "    left_50 = max_idx - left_50\n",
    "\n",
    "    # Find right boundaries\n",
    "    right_50 = next((i for i, val in enumerate(data[max_idx:]) if val <= threshold_50), len(data) - max_idx) + max_idx\n",
    "\n",
    "    return {\n",
    "        \"peak\": max_idx,\n",
    "        \"left_50\": left_50,\n",
    "        \"right_50\": right_50\n",
    "    }\n",
    "    \n",
    "def compute_correlation(x, y):\n",
    "    return np.corrcoef(x, y)[0, 1]"
   ]
  },
  {
   "cell_type": "code",
   "execution_count": 15,
   "id": "84e39b7c-d16e-4087-a2eb-b42d3eed6436",
   "metadata": {
    "scrolled": true
   },
   "outputs": [],
   "source": [
    "import os\n",
    "import numpy as np\n",
    "import nibabel as nib\n",
    "import pandas as pd\n",
    "\n",
    "train_info = pd.read_csv('train.csv')\n",
    "train_info.patient_id = train_info.patient_id.astype(str)\n",
    "\n",
    "curr_df = dicom_df[dicom_df.patient_duplicate_count == 2]\n",
    "train_info = train_info[train_info.patient_id.isin(curr_df.patient_id)]\n",
    "\n",
    "#\n",
    "train_info = train_info[train_info.extravasation_injury == 1]\n",
    "curr_df = curr_df[curr_df.patient_id.isin(train_info.patient_id)]\n",
    "\n",
    "unique_patients = np.unique(curr_df.patient_id)\n",
    "\n",
    "save_directory = \"/workspace/0728tot/ATD/extravasations\"  # Adjust to your path\n"
   ]
  },
  {
   "cell_type": "code",
   "execution_count": 264,
   "id": "a5ef3c08-a9ed-45af-bf57-c3913912cadd",
   "metadata": {},
   "outputs": [],
   "source": [
    "patient_id = unique_patients[2]"
   ]
  },
  {
   "cell_type": "code",
   "execution_count": 265,
   "id": "69aa0953-e8a6-4ceb-9440-cde518b148cd",
   "metadata": {},
   "outputs": [],
   "source": [
    "df = curr_df\n",
    "eval_df = df[df.patient_id == patient_id]\n",
    "paths = np.array(eval_df.series_dir)"
   ]
  },
  {
   "cell_type": "code",
   "execution_count": 266,
   "id": "9ca8952a-4032-4fa6-9938-4f3d35505e4f",
   "metadata": {},
   "outputs": [],
   "source": [
    "vol_0 = sample_patient_volume(paths[0], depth_downsample_rate=None, lw_downsample_rate=None, \n",
    "                              adjust_pixel_spacing=\"yes\", standardize_pixel_array=\"yes\", \n",
    "                              target_pixel_spacing=[1.0, 1.0], target_thickness=1,\n",
    "                              find_bbox=\"yes\")\n",
    "\n",
    "vol_1 = sample_patient_volume(paths[1], depth_downsample_rate=None, lw_downsample_rate=None, \n",
    "                              adjust_pixel_spacing=\"yes\", standardize_pixel_array=\"yes\", \n",
    "                              target_pixel_spacing=[1.0, 1.0], target_thickness=1,\n",
    "                              find_bbox=\"yes\")"
   ]
  },
  {
   "cell_type": "code",
   "execution_count": 351,
   "id": "f53d9db8-1d1b-4050-8370-bc1b82ac230a",
   "metadata": {},
   "outputs": [],
   "source": [
    "# determine which one is the \"moving\"/smaller or \"fixed\"/larger volume\n",
    "moving_vol = None\n",
    "fixed_vol = None\n",
    "if vol_0.shape[0] > vol_1.shape[0]:\n",
    "    moving_vol = vol_1\n",
    "    fixed_vol = vol_0\n",
    "elif vol_0.shape[0] <= vol_1.shape[0]:\n",
    "    moving_vol = vol_0\n",
    "    fixed_vol = vol_1"
   ]
  },
  {
   "cell_type": "code",
   "execution_count": 352,
   "id": "9e8b9044-f01c-4262-9db1-26a0a1a9ea3f",
   "metadata": {},
   "outputs": [
    {
     "name": "stdout",
     "output_type": "stream",
     "text": [
      "yes\n"
     ]
    }
   ],
   "source": [
    "fixed_vol_sads = compute_sad_per_slice(fixed_vol, gamma=1.0)\n",
    "moving_vol_sads = compute_sad_per_slice(moving_vol, gamma=1.0)\n",
    "\n",
    "indices = [x for x in range(len(fixed_vol_sads))]\n",
    "\n",
    "offset_index = best_alignment(fixed_vol_sads,moving_vol_sads)\n",
    "\n",
    "indices = indices[offset_index:]\n",
    "indices = indices[:moving_vol_sads.shape[0]]\n",
    "\n",
    "fixed_vol_sads = fixed_vol_sads[offset_index:]\n",
    "fixed_vol_sads = fixed_vol_sads[:moving_vol_sads.shape[0]]\n",
    "\n",
    "# See how close the arrays are\n",
    "corr = compute_correlation(fixed_vol_sads,moving_vol_sads)\n",
    "\n",
    "if corr > 0.9:\n",
    "    print(\"yes\")\n",
    "# if bad correlation then ignore, mark it for manual annotation\n",
    "# if good correlation, then do the rest to find the slices that are extravasated"
   ]
  },
  {
   "cell_type": "code",
   "execution_count": 353,
   "id": "f7065699-8478-4ce2-a9b9-18c734bce7d9",
   "metadata": {},
   "outputs": [],
   "source": [
    "moving_vol_register = register_volume_ants(fixed_vol, moving_vol, 'Elastic')"
   ]
  },
  {
   "cell_type": "code",
   "execution_count": 261,
   "id": "8f147e9a-fda7-4909-967a-4ddf44dba774",
   "metadata": {},
   "outputs": [],
   "source": [
    "fixed_vol_sads = compute_sad_per_slice(fixed_vol, gamma=1.0)\n",
    "moving_vol_register_sads = compute_sad_per_slice(moving_vol_register,gamma=1.0)"
   ]
  },
  {
   "cell_type": "code",
   "execution_count": 354,
   "id": "75b6669e-aa36-4142-a58c-a80019db8011",
   "metadata": {},
   "outputs": [
    {
     "data": {
      "text/plain": [
       "[<matplotlib.lines.Line2D at 0x7f20f3b1a610>]"
      ]
     },
     "execution_count": 354,
     "metadata": {},
     "output_type": "execute_result"
    },
    {
     "data": {
      "image/png": "[encoded data removed]",
      "text/plain": [
       "<Figure size 640x480 with 1 Axes>"
      ]
     },
     "metadata": {},
     "output_type": "display_data"
    }
   ],
   "source": [
    "plt.plot(moving_vol_sads)\n",
    "plt.plot(fixed_vol_sads)"
   ]
  },
  {
   "cell_type": "code",
   "execution_count": 355,
   "id": "1355c965-94ce-4e57-9786-142190fc94c2",
   "metadata": {},
   "outputs": [],
   "source": [
    "fixed_vol_sads_means = np.mean(fixed_vol_sads)\n",
    "moving_vol_sads_means = np.mean(moving_vol_sads)\n",
    "\n",
    "difference_vol = None\n",
    "if moving_vol_sads_means > fixed_vol_sads_means:\n",
    "    difference_vol = moving_vol_register - fixed_vol\n",
    "else:\n",
    "    difference_vol = fixed_vol - moving_vol_register"
   ]
  },
  {
   "cell_type": "code",
   "execution_count": 356,
   "id": "ba992af9-1927-4d47-aac4-4c46e154213a",
   "metadata": {},
   "outputs": [],
   "source": [
    "roi_volume = extract_volume_roi(difference_vol, gamma=1.0) #try only difference_vol\n",
    "#roi_volume = extract_volume_roi(fixed_vol, gamma=1.0) "
   ]
  },
  {
   "cell_type": "code",
   "execution_count": 357,
   "id": "72d40f7f-071a-450e-8c6c-0dd5a929470b",
   "metadata": {},
   "outputs": [],
   "source": [
    "roi_vol_sads = compute_sad_per_slice(roi_volume)"
   ]
  },
  {
   "cell_type": "code",
   "execution_count": 358,
   "id": "65102b68-93da-4ee3-b017-92ba74974f94",
   "metadata": {},
   "outputs": [],
   "source": [
    "drop_indices = np.where(roi_vol_sads==0)[0]\n",
    "roi_vol_sads = np.delete(roi_vol_sads,drop_indices)"
   ]
  },
  {
   "cell_type": "code",
   "execution_count": 360,
   "id": "d9b8701f-e943-4026-bd32-5ec528a8974c",
   "metadata": {},
   "outputs": [],
   "source": [
    "denoised_signal = fourier_smoothing(roi_vol_sads,cutoff_fraction=0.01)#0.032"
   ]
  },
  {
   "cell_type": "code",
   "execution_count": 361,
   "id": "9dda62b1-493b-45ea-a17c-06571c358025",
   "metadata": {},
   "outputs": [],
   "source": [
    "scaled_data = np.round(np.array(denoised_signal) / 1e4).astype(int) / 100"
   ]
  },
  {
   "cell_type": "code",
   "execution_count": 363,
   "id": "971d5763-002b-424f-80fc-ee0641d73730",
   "metadata": {},
   "outputs": [
    {
     "name": "stdout",
     "output_type": "stream",
     "text": [
      "False\n"
     ]
    }
   ],
   "source": [
    "result = peaks_within_threshold(scaled_data)\n",
    "print(result)"
   ]
  },
  {
   "cell_type": "code",
   "execution_count": 362,
   "id": "ee2515b9-74ee-47e5-b379-fd5e3b37aa02",
   "metadata": {},
   "outputs": [
    {
     "name": "stdout",
     "output_type": "stream",
     "text": [
      "{'peak': 169, 'left_50': 88, 'right_50': 277}\n"
     ]
    }
   ],
   "source": [
    "bell_region = find_bell_curve_region(scaled_data)\n",
    "print(bell_region)"
   ]
  },
  {
   "cell_type": "code",
   "execution_count": 1,
   "id": "f09d64a9-a8f2-47bf-8fad-d4490750374d",
   "metadata": {},
   "outputs": [],
   "source": [
    "!rm -rf /tmp/*"
   ]
  },
  {
   "cell_type": "code",
   "execution_count": 2,
   "id": "4a62e462-7b8a-4218-bfa9-f98999f62cd5",
   "metadata": {},
   "outputs": [],
   "source": [
    "!rm -rf /dev/shm/*"
   ]
  }
 ],
 "metadata": {
  "kernelspec": {
   "display_name": "Python 3 (ipykernel)",
   "language": "python",
   "name": "python3"
  },
  "language_info": {
   "codemirror_mode": {
    "name": "ipython",
    "version": 3
   },
   "file_extension": ".py",
   "mimetype": "text/x-python",
   "name": "python",
   "nbconvert_exporter": "python",
   "pygments_lexer": "ipython3",
   "version": "3.8.0"
  }
 },
 "nbformat": 4,
 "nbformat_minor": 5
}
